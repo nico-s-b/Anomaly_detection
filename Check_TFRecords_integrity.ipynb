{
 "cells": [
  {
   "cell_type": "code",
   "execution_count": null,
   "metadata": {},
   "outputs": [],
   "source": [
    "import os\n",
    "\n",
    "def count_and_save_small_tfrecords(directory, size_limit_mb, output_file):\n",
    "    size_limit_bytes = size_limit_mb * 1024 * 1024\n",
    "    total_count = 0\n",
    "    small_count = 0\n",
    "    small_files = []\n",
    "\n",
    "    for root, dirs, files in os.walk(directory):\n",
    "        for file in files:\n",
    "            if file.endswith(\".tfrecord\"):\n",
    "                total_count += 1\n",
    "                file_path = os.path.join(root, file)\n",
    "                if os.path.getsize(file_path) < size_limit_bytes:\n",
    "                    small_count += 1\n",
    "                    small_files.append(file_path)\n",
    "\n",
    "    with open(output_file, 'w') as f:\n",
    "        for file_path in small_files:\n",
    "            f.write(file_path + '\\n')\n",
    "\n",
    "    return total_count, small_count, small_files\n",
    "\n",
    "directory = 'TFRecords'  # Replace with your directory path\n",
    "size_limit_mb = 93.65\n",
    "output_file = 'small_tfrecords.txt'\n",
    "\n",
    "total_count, small_count, small_files = count_and_save_small_tfrecords(directory, size_limit_mb, output_file)\n",
    "print(f\"Total number of .tfrecords files: {total_count}\")\n",
    "print(f\"Number of .tfrecords files smaller than {size_limit_mb} MB: {small_count}\")\n",
    "print(f\"Paths of small files saved to {output_file}\")\n"
   ]
  },
  {
   "cell_type": "code",
   "execution_count": 25,
   "metadata": {},
   "outputs": [],
   "source": [
    "!ls"
   ]
  },
  {
   "cell_type": "code",
   "execution_count": null,
   "metadata": {},
   "outputs": [],
   "source": []
  }
 ],
 "metadata": {
  "kernelspec": {
   "display_name": "Python 3",
   "language": "python",
   "name": "python3"
  },
  "language_info": {
   "codemirror_mode": {
    "name": "ipython",
    "version": 3
   },
   "file_extension": ".py",
   "mimetype": "text/x-python",
   "name": "python",
   "nbconvert_exporter": "python",
   "pygments_lexer": "ipython3",
   "version": "3.7.3"
  }
 },
 "nbformat": 4,
 "nbformat_minor": 5
}
