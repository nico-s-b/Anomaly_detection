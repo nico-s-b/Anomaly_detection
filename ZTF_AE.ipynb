{
 "cells": [
  {
   "cell_type": "code",
   "execution_count": 1,
   "id": "4e2bdb1d-45bd-49b2-a84a-fc883b39875b",
   "metadata": {},
   "outputs": [],
   "source": [
    "import os\n",
    "import io\n",
    "import warnings\n",
    "import gzip\n",
    "import fastavro\n",
    "from avro.datafile import DataFileReader, DataFileWriter\n",
    "from avro.io import DatumReader, DatumWriter\n",
    "\n",
    "import numpy as np\n",
    "import pandas as pd\n",
    "import matplotlib.pyplot as plt\n",
    "%matplotlib inline\n",
    "\n",
    "from sklearn.model_selection import train_test_split\n",
    "\n",
    "from astropy.time import Time\n",
    "from astropy.io import fits\n",
    "from astropy import units as u"
   ]
  },
  {
   "cell_type": "code",
   "execution_count": 2,
   "id": "51d09773-423f-43d2-ae99-fa4ae61801d5",
   "metadata": {},
   "outputs": [
    {
     "name": "stderr",
     "output_type": "stream",
     "text": [
      "2024-09-13 11:00:06.713815: E external/local_xla/xla/stream_executor/cuda/cuda_fft.cc:485] Unable to register cuFFT factory: Attempting to register factory for plugin cuFFT when one has already been registered\n",
      "2024-09-13 11:00:07.837343: E external/local_xla/xla/stream_executor/cuda/cuda_dnn.cc:8454] Unable to register cuDNN factory: Attempting to register factory for plugin cuDNN when one has already been registered\n",
      "2024-09-13 11:00:08.065027: E external/local_xla/xla/stream_executor/cuda/cuda_blas.cc:1452] Unable to register cuBLAS factory: Attempting to register factory for plugin cuBLAS when one has already been registered\n",
      "2024-09-13 11:00:10.165037: I tensorflow/core/platform/cpu_feature_guard.cc:210] This TensorFlow binary is optimized to use available CPU instructions in performance-critical operations.\n",
      "To enable the following instructions: AVX2 FMA, in other operations, rebuild TensorFlow with the appropriate compiler flags.\n",
      "2024-09-13 11:00:16.666030: W tensorflow/compiler/tf2tensorrt/utils/py_utils.cc:38] TF-TRT Warning: Could not find TensorRT\n"
     ]
    },
    {
     "name": "stdout",
     "output_type": "stream",
     "text": [
      "Num GPUs Available:  1\n"
     ]
    },
    {
     "name": "stderr",
     "output_type": "stream",
     "text": [
      "WARNING: All log messages before absl::InitializeLog() is called are written to STDERR\n",
      "I0000 00:00:1726236021.648625    4806 cuda_executor.cc:1015] successful NUMA node read from SysFS had negative value (-1), but there must be at least one NUMA node, so returning NUMA node zero. See more at https://github.com/torvalds/linux/blob/v6.0/Documentation/ABI/testing/sysfs-bus-pci#L344-L355\n",
      "I0000 00:00:1726236025.596148    4806 cuda_executor.cc:1015] successful NUMA node read from SysFS had negative value (-1), but there must be at least one NUMA node, so returning NUMA node zero. See more at https://github.com/torvalds/linux/blob/v6.0/Documentation/ABI/testing/sysfs-bus-pci#L344-L355\n",
      "I0000 00:00:1726236025.602862    4806 cuda_executor.cc:1015] successful NUMA node read from SysFS had negative value (-1), but there must be at least one NUMA node, so returning NUMA node zero. See more at https://github.com/torvalds/linux/blob/v6.0/Documentation/ABI/testing/sysfs-bus-pci#L344-L355\n"
     ]
    }
   ],
   "source": [
    "import tensorflow as tf\n",
    "print(\"Num GPUs Available: \", len(tf.config.list_physical_devices('GPU')))"
   ]
  },
  {
   "cell_type": "code",
   "execution_count": 2,
   "id": "530511e7-4435-4340-9d8f-fe0953ae69d9",
   "metadata": {},
   "outputs": [],
   "source": [
    "output_dir = '/home/nicolas/astro/ztf-avro-alert/data'"
   ]
  },
  {
   "cell_type": "code",
   "execution_count": 3,
   "id": "c140817a-5fc3-40b6-8a2b-d12707dcad50",
   "metadata": {},
   "outputs": [],
   "source": [
    "def find_files(root_dir):\n",
    "    for dir_name, subdir_list, file_list in os.walk(root_dir, followlinks=True):\n",
    "        for fname in file_list:\n",
    "            if fname.endswith('.avro'):\n",
    "                yield dir_name+'/'+fname"
   ]
  },
  {
   "cell_type": "code",
   "execution_count": 4,
   "id": "7d70992b-854e-4159-b8a9-8f4340ea4feb",
   "metadata": {},
   "outputs": [
    {
     "name": "stdout",
     "output_type": "stream",
     "text": [
      "/home/nicolas/astro/ztf-avro-alert/data has 54921 avro files\n"
     ]
    }
   ],
   "source": [
    "# Contar archivos avro en directorio\n",
    "print('{} has {} avro files'.format(output_dir, len(list(find_files(output_dir)))))"
   ]
  },
  {
   "cell_type": "code",
   "execution_count": 5,
   "id": "3cd365a7-3289-4419-af8a-27a20c0a4a40",
   "metadata": {},
   "outputs": [],
   "source": [
    "def open_avro(fname):\n",
    "    with open(fname,'rb') as f:\n",
    "        freader = fastavro.reader(f)\n",
    "        # in principle there can be multiple packets per file\n",
    "        for packet in freader:\n",
    "            yield packet"
   ]
  },
  {
   "cell_type": "code",
   "execution_count": 6,
   "id": "e67ec10e-bad5-4f04-8f05-5a7b3e326de2",
   "metadata": {},
   "outputs": [],
   "source": [
    "def generate_dictionaries(root_dir):\n",
    "    for fname in find_files(root_dir):\n",
    "        for packet in open_avro(fname):\n",
    "            yield packet"
   ]
  },
  {
   "cell_type": "code",
   "execution_count": 8,
   "id": "93a7f912-bcfe-4af4-8b4f-3d9306e02862",
   "metadata": {},
   "outputs": [
    {
     "name": "stdout",
     "output_type": "stream",
     "text": [
      "defaultdict(<class 'int'>, {1: 54921})\n",
      "CPU times: user 4min 22s, sys: 19.8 s, total: 4min 42s\n",
      "Wall time: 18min 51s\n"
     ]
    }
   ],
   "source": [
    "%%time\n",
    "from collections import defaultdict\n",
    "programs = defaultdict(int)\n",
    "for packet in generate_dictionaries(output_dir):\n",
    "    programs[packet['candidate']['programid']] += 1\n",
    "print(programs)"
   ]
  },
  {
   "cell_type": "code",
   "execution_count": 7,
   "id": "ed812630-079d-4456-9d59-1c65c93834a5",
   "metadata": {},
   "outputs": [],
   "source": [
    "def extract_cutouts(packet):\n",
    "    cutouts = {}\n",
    "    for cutout_type in ['Science', 'Template', 'Difference']:\n",
    "        stamp_data = packet[f'cutout{cutout_type}']['stampData']\n",
    "        with gzip.open(io.BytesIO(stamp_data), 'rb') as f:\n",
    "            with fits.open(io.BytesIO(f.read())) as hdul:\n",
    "                cutouts[cutout_type] = hdul[0].data\n",
    "    return cutouts"
   ]
  },
  {
   "cell_type": "code",
   "execution_count": 8,
   "id": "5ff5178b-2b1e-448b-928e-f1d6bbef2991",
   "metadata": {},
   "outputs": [
    {
     "name": "stderr",
     "output_type": "stream",
     "text": [
      "WARNING: VerifyWarning: Found a SIMPLE card but its format doesn't respect the FITS Standard [astropy.io.fits.hdu.hdulist]\n"
     ]
    },
    {
     "name": "stdout",
     "output_type": "stream",
     "text": [
      "CPU times: user 8min 7s, sys: 25.3 s, total: 8min 32s\n",
      "Wall time: 22min 2s\n"
     ]
    }
   ],
   "source": [
    "%%time\n",
    "all_alerts = []\n",
    "for i, packet in enumerate(generate_dictionaries(output_dir)):\n",
    "    cutouts = extract_cutouts(packet)\n",
    "    all_alerts.append([cutouts['Science'],cutouts['Template'],cutouts['Difference']])"
   ]
  },
  {
   "cell_type": "markdown",
   "id": "dea77270-844b-4288-a20e-1e1fb4ef4768",
   "metadata": {},
   "source": [
    "# Preprocesamiento:\n",
    "Redimensionamiento, normalización, separación de conjuntos, eliminación de imágenes nulas"
   ]
  },
  {
   "cell_type": "code",
   "execution_count": 9,
   "id": "46655853-2169-4cea-a80c-84502cceb3e6",
   "metadata": {},
   "outputs": [
    {
     "name": "stdout",
     "output_type": "stream",
     "text": [
      "Imagenes de diferente dimensión: 693\n",
      "Imágenes válidas: 54228\n"
     ]
    }
   ],
   "source": [
    "diff_dimension = 0\n",
    "all_alerts_samedim = []\n",
    "for i, cutouts in enumerate(all_alerts):\n",
    "    science_img, template_img, difference_img = cutouts\n",
    "    if science_img.shape == (63, 63) and template_img.shape == (63, 63) and difference_img.shape == (63, 63):\n",
    "        all_alerts_samedim.append(cutouts)\n",
    "    else:\n",
    "        diff_dimension += 1 \n",
    "print(f\"Imagenes de diferente dimensión: {diff_dimension}\")\n",
    "print(f\"Imágenes válidas: {len(all_alerts_samedim)}\")"
   ]
  },
  {
   "cell_type": "code",
   "execution_count": 10,
   "id": "bf93b0b5-69fa-4f4c-ac32-684c23e2dd6d",
   "metadata": {},
   "outputs": [
    {
     "name": "stdout",
     "output_type": "stream",
     "text": [
      "Total de imágenes válidas: 53920\n",
      "-56870.105 66141.96\n"
     ]
    }
   ],
   "source": [
    "all_alerts_clean = []\n",
    "\n",
    "for cutouts in all_alerts_samedim:\n",
    "    science_clean = np.nan_to_num(cutouts[0], nan=0.0, posinf=0.0, neginf=0.0)\n",
    "    template_clean = np.nan_to_num(cutouts[1], nan=0.0, posinf=0.0, neginf=0.0)\n",
    "    difference_clean = np.nan_to_num(cutouts[2], nan=0.0, posinf=0.0, neginf=None)\n",
    "    if not np.all(science_clean == 0):\n",
    "        if np.min(science_clean) > -1e38 and np.min(template_clean) > -1e38 and np.min(difference_clean) > -1e38:\n",
    "            all_alerts_clean.append([science_clean, template_clean, difference_clean])\n",
    "\n",
    "all_alerts = np.array(all_alerts_clean)\n",
    "print(f\"Total de imágenes válidas: {len(all_alerts)}\")\n",
    "min_val = np.min(all_alerts)\n",
    "max_val = np.max(all_alerts)\n",
    "print(min_val, max_val)"
   ]
  },
  {
   "cell_type": "code",
   "execution_count": 11,
   "id": "4b98e070-f41f-4012-bfa8-9090ef7a514f",
   "metadata": {},
   "outputs": [],
   "source": [
    "width = 63"
   ]
  },
  {
   "cell_type": "code",
   "execution_count": 18,
   "id": "e748e15c-7be8-4e03-b12e-89baa6f304a2",
   "metadata": {},
   "outputs": [],
   "source": [
    "# OBSERVACIÓN:\n",
    "# Ejecutar si es necesario recortar las stamps centradas...\n",
    "def center_crop(image, crop_size):\n",
    "    height, width = image.shape\n",
    "    \n",
    "    start_x = (width - crop_size) // 2\n",
    "    start_y = (height - crop_size) // 2\n",
    "    \n",
    "    return image[start_y:start_y+crop_size, start_x:start_x+crop_size]\n",
    "\n",
    "all_alerts_cropped = []\n",
    "\n",
    "for cutouts in all_alerts_clean:\n",
    "    science_cropped = center_crop(cutouts[0], width)\n",
    "    template_cropped = center_crop(cutouts[1], width)\n",
    "    difference_cropped = center_crop(cutouts[2], width)\n",
    "    \n",
    "    all_alerts_cropped.append([science_cropped, template_cropped, difference_cropped])\n",
    "\n",
    "all_alerts = np.array(all_alerts_cropped)"
   ]
  },
  {
   "cell_type": "code",
   "execution_count": 15,
   "id": "98117e2a-5697-4f8d-af9e-a337b7c6179f",
   "metadata": {},
   "outputs": [
    {
     "data": {
      "image/png": "[encoded data removed]",
      "text/plain": [
       "<Figure size 640x480 with 2 Axes>"
      ]
     },
     "metadata": {},
     "output_type": "display_data"
    },
    {
     "data": {
      "image/png": "[encoded data removed]",
      "text/plain": [
       "<Figure size 640x480 with 2 Axes>"
      ]
     },
     "metadata": {},
     "output_type": "display_data"
    }
   ],
   "source": [
    "i = 1500\n",
    "plt.imshow(all_alerts[i][0], cmap='gray')\n",
    "plt.colorbar()\n",
    "plt.title(\"Science Image (Filtered)\")\n",
    "plt.show()\n",
    "\n",
    "plt.imshow(all_alerts[i][2], cmap='gray')\n",
    "plt.colorbar()\n",
    "plt.title(\"Difference Image (Filtered)\")\n",
    "plt.show()"
   ]
  },
  {
   "cell_type": "code",
   "execution_count": 12,
   "id": "efac4f7b-6968-4513-9827-149fc6bb5ca5",
   "metadata": {},
   "outputs": [],
   "source": [
    "# Normalizar Science\n",
    "science_images = [cutouts[0] for cutouts in all_alerts]\n",
    "science_images = np.array(science_images)\n",
    "min_science = np.min(science_images)\n",
    "max_science = np.max(science_images)\n",
    "science_images_normalized = (science_images - min_science) / (max_science - min_science)"
   ]
  },
  {
   "cell_type": "code",
   "execution_count": 13,
   "id": "6477d842-b4da-4f62-b200-b2eb24787e5a",
   "metadata": {},
   "outputs": [],
   "source": [
    "# Normalizar Template\n",
    "template_images = [cutouts[1] for cutouts in all_alerts]\n",
    "template_images = np.array(template_images)\n",
    "min_template = np.min(template_images)\n",
    "max_template = np.max(template_images)\n",
    "template_images_normalized = (template_images - min_template) / (max_template - min_template)"
   ]
  },
  {
   "cell_type": "code",
   "execution_count": 14,
   "id": "2c5829a1-f7b6-4589-997f-9cd880590658",
   "metadata": {},
   "outputs": [],
   "source": [
    "# Normalizar Difference\n",
    "difference_images = [cutouts[2] for cutouts in all_alerts]\n",
    "difference_images = np.array(difference_images)\n",
    "min_difference = np.min(difference_images)\n",
    "max_difference = np.max(difference_images)\n",
    "difference_images_normalized = 2 * (difference_images - min_difference) / (max_difference - min_difference) - 1"
   ]
  },
  {
   "cell_type": "code",
   "execution_count": 15,
   "id": "d5dcab4b-b687-4425-829b-604144669b1a",
   "metadata": {},
   "outputs": [],
   "source": [
    "all_alerts = []\n",
    "all_images_normalized = np.stack((science_images_normalized, template_images_normalized, difference_images_normalized), axis=-1)\n",
    "science_images = []\n",
    "science_images_normalized = []\n",
    "template_images = []\n",
    "template_images_normalized = []\n",
    "difference_images = []\n",
    "difference_images_normalized = []\n",
    "all_images = []"
   ]
  },
  {
   "cell_type": "code",
   "execution_count": 16,
   "id": "308f6020-d6a0-4986-a4ce-c88a82a353e8",
   "metadata": {},
   "outputs": [
    {
     "name": "stdout",
     "output_type": "stream",
     "text": [
      "Forma de las imágenes de entrenamiento: (63, 63, 3)\n"
     ]
    }
   ],
   "source": [
    "train_images = []\n",
    "test_images = []\n",
    "train_images, test_images = train_test_split(all_images_normalized, test_size=0.2, random_state=42)\n",
    "print(f\"Forma de las imágenes de entrenamiento: {train_images[0].shape}\")\n",
    "all_images_normalized = []"
   ]
  },
  {
   "cell_type": "code",
   "execution_count": 17,
   "id": "e71959ed-c203-496a-8401-99f50c094d22",
   "metadata": {},
   "outputs": [],
   "source": [
    "np.save('train_images.npy', train_images)\n",
    "np.save('test_images.npy', test_images)"
   ]
  },
  {
   "cell_type": "markdown",
   "id": "373e4689-f5ab-42a4-8593-181dfef04eeb",
   "metadata": {},
   "source": [
    "# Modelo"
   ]
  },
  {
   "cell_type": "code",
   "execution_count": 8,
   "id": "ec9d78db-bdee-4524-928a-0e200a68b1dc",
   "metadata": {},
   "outputs": [],
   "source": [
    "width = 63\n",
    "train_images = np.load('train_images.npy')\n",
    "test_images = np.load('test_images.npy')"
   ]
  },
  {
   "cell_type": "code",
   "execution_count": 5,
   "id": "d1eda344-b738-4462-b08b-cb936c172f27",
   "metadata": {},
   "outputs": [
    {
     "name": "stderr",
     "output_type": "stream",
     "text": [
      "2024-09-13 12:51:47.693438: E external/local_xla/xla/stream_executor/cuda/cuda_fft.cc:485] Unable to register cuFFT factory: Attempting to register factory for plugin cuFFT when one has already been registered\n",
      "2024-09-13 12:51:48.575619: E external/local_xla/xla/stream_executor/cuda/cuda_dnn.cc:8454] Unable to register cuDNN factory: Attempting to register factory for plugin cuDNN when one has already been registered\n",
      "2024-09-13 12:51:48.825419: E external/local_xla/xla/stream_executor/cuda/cuda_blas.cc:1452] Unable to register cuBLAS factory: Attempting to register factory for plugin cuBLAS when one has already been registered\n",
      "2024-09-13 12:51:50.580608: I tensorflow/core/platform/cpu_feature_guard.cc:210] This TensorFlow binary is optimized to use available CPU instructions in performance-critical operations.\n",
      "To enable the following instructions: AVX2 FMA, in other operations, rebuild TensorFlow with the appropriate compiler flags.\n",
      "2024-09-13 12:51:57.563446: W tensorflow/compiler/tf2tensorrt/utils/py_utils.cc:38] TF-TRT Warning: Could not find TensorRT\n"
     ]
    }
   ],
   "source": [
    "import tensorflow as tf\n",
    "# En caso de no poder usar GPU o necesitar desactivarla\n",
    "tf.config.set_visible_devices([], 'GPU')\n",
    "from tensorflow.keras import layers, models\n",
    "from tensorflow.keras.layers import LeakyReLU\n",
    "from tensorflow.keras.layers import Dropout, BatchNormalization"
   ]
  },
  {
   "cell_type": "code",
   "execution_count": 6,
   "id": "b5ccd7a3-2546-49f6-b27a-dfe3b5f7b200",
   "metadata": {},
   "outputs": [
    {
     "name": "stdout",
     "output_type": "stream",
     "text": [
      "float32 (43136, 63, 63, 3)\n",
      "float32 (10784, 63, 63, 3)\n"
     ]
    }
   ],
   "source": [
    "print(train_images.dtype, train_images.shape)\n",
    "print(test_images.dtype, test_images.shape)"
   ]
  },
  {
   "cell_type": "code",
   "execution_count": 22,
   "id": "93b13381-7ffe-4234-a517-e6af104a47d8",
   "metadata": {},
   "outputs": [
    {
     "name": "stderr",
     "output_type": "stream",
     "text": [
      "I0000 00:00:1726153686.435332   98339 cuda_executor.cc:1015] successful NUMA node read from SysFS had negative value (-1), but there must be at least one NUMA node, so returning NUMA node zero. See more at https://github.com/torvalds/linux/blob/v6.0/Documentation/ABI/testing/sysfs-bus-pci#L344-L355\n",
      "I0000 00:00:1726153686.440798   98339 cuda_executor.cc:1015] successful NUMA node read from SysFS had negative value (-1), but there must be at least one NUMA node, so returning NUMA node zero. See more at https://github.com/torvalds/linux/blob/v6.0/Documentation/ABI/testing/sysfs-bus-pci#L344-L355\n",
      "I0000 00:00:1726153686.443223   98339 cuda_executor.cc:1015] successful NUMA node read from SysFS had negative value (-1), but there must be at least one NUMA node, so returning NUMA node zero. See more at https://github.com/torvalds/linux/blob/v6.0/Documentation/ABI/testing/sysfs-bus-pci#L344-L355\n",
      "I0000 00:00:1726153688.113975   98339 cuda_executor.cc:1015] successful NUMA node read from SysFS had negative value (-1), but there must be at least one NUMA node, so returning NUMA node zero. See more at https://github.com/torvalds/linux/blob/v6.0/Documentation/ABI/testing/sysfs-bus-pci#L344-L355\n",
      "I0000 00:00:1726153688.115802   98339 cuda_executor.cc:1015] successful NUMA node read from SysFS had negative value (-1), but there must be at least one NUMA node, so returning NUMA node zero. See more at https://github.com/torvalds/linux/blob/v6.0/Documentation/ABI/testing/sysfs-bus-pci#L344-L355\n",
      "I0000 00:00:1726153688.117445   98339 cuda_executor.cc:1015] successful NUMA node read from SysFS had negative value (-1), but there must be at least one NUMA node, so returning NUMA node zero. See more at https://github.com/torvalds/linux/blob/v6.0/Documentation/ABI/testing/sysfs-bus-pci#L344-L355\n",
      "2024-09-12 12:08:08.254774: I tensorflow/core/common_runtime/gpu/gpu_device.cc:2021] Created device /job:localhost/replica:0/task:0/device:GPU:0 with 2559 MB memory:  -> device: 0, name: NVIDIA GeForce GTX 1650 Ti, pci bus id: 0000:01:00.0, compute capability: 7.5\n"
     ]
    }
   ],
   "source": [
    "# Modelo inicial\n",
    "# Encoder\n",
    "encoded = layers.Dense(128, activation='relu')(input_img)\n",
    "encoded = layers.Dense(64, activation='relu')(encoded)\n",
    "encoded = layers.Dense(32, activation='relu')(encoded)\n",
    "\n",
    "bottleneck = layers.Dense(encoding_dim, activation='relu')(encoded)\n",
    "\n",
    "# Decoder\n",
    "decoded = layers.Dense(32, activation='relu')(bottleneck)\n",
    "decoded = layers.Dense(64, activation='relu')(decoded)\n",
    "decoded = layers.Dense(128, activation='relu')(decoded)\n",
    "output_img = layers.Dense(input_dim, activation='sigmoid')(decoded)\n"
   ]
  },
  {
   "cell_type": "code",
   "execution_count": 9,
   "id": "b7cc7a9b-03d1-4797-9b47-e1645bc9e764",
   "metadata": {},
   "outputs": [
    {
     "name": "stderr",
     "output_type": "stream",
     "text": [
      "WARNING: All log messages before absl::InitializeLog() is called are written to STDERR\n",
      "I0000 00:00:1726242799.799289   10960 cuda_executor.cc:1015] successful NUMA node read from SysFS had negative value (-1), but there must be at least one NUMA node, so returning NUMA node zero. See more at https://github.com/torvalds/linux/blob/v6.0/Documentation/ABI/testing/sysfs-bus-pci#L344-L355\n",
      "I0000 00:00:1726242803.394794   10960 cuda_executor.cc:1015] successful NUMA node read from SysFS had negative value (-1), but there must be at least one NUMA node, so returning NUMA node zero. See more at https://github.com/torvalds/linux/blob/v6.0/Documentation/ABI/testing/sysfs-bus-pci#L344-L355\n",
      "I0000 00:00:1726242803.398135   10960 cuda_executor.cc:1015] successful NUMA node read from SysFS had negative value (-1), but there must be at least one NUMA node, so returning NUMA node zero. See more at https://github.com/torvalds/linux/blob/v6.0/Documentation/ABI/testing/sysfs-bus-pci#L344-L355\n",
      "I0000 00:00:1726242803.421096   10960 cuda_executor.cc:1015] successful NUMA node read from SysFS had negative value (-1), but there must be at least one NUMA node, so returning NUMA node zero. See more at https://github.com/torvalds/linux/blob/v6.0/Documentation/ABI/testing/sysfs-bus-pci#L344-L355\n",
      "I0000 00:00:1726242803.424348   10960 cuda_executor.cc:1015] successful NUMA node read from SysFS had negative value (-1), but there must be at least one NUMA node, so returning NUMA node zero. See more at https://github.com/torvalds/linux/blob/v6.0/Documentation/ABI/testing/sysfs-bus-pci#L344-L355\n",
      "I0000 00:00:1726242803.426858   10960 cuda_executor.cc:1015] successful NUMA node read from SysFS had negative value (-1), but there must be at least one NUMA node, so returning NUMA node zero. See more at https://github.com/torvalds/linux/blob/v6.0/Documentation/ABI/testing/sysfs-bus-pci#L344-L355\n",
      "I0000 00:00:1726242803.804809   10960 cuda_executor.cc:1015] successful NUMA node read from SysFS had negative value (-1), but there must be at least one NUMA node, so returning NUMA node zero. See more at https://github.com/torvalds/linux/blob/v6.0/Documentation/ABI/testing/sysfs-bus-pci#L344-L355\n",
      "I0000 00:00:1726242803.806213   10960 cuda_executor.cc:1015] successful NUMA node read from SysFS had negative value (-1), but there must be at least one NUMA node, so returning NUMA node zero. See more at https://github.com/torvalds/linux/blob/v6.0/Documentation/ABI/testing/sysfs-bus-pci#L344-L355\n",
      "I0000 00:00:1726242803.807444   10960 cuda_executor.cc:1015] successful NUMA node read from SysFS had negative value (-1), but there must be at least one NUMA node, so returning NUMA node zero. See more at https://github.com/torvalds/linux/blob/v6.0/Documentation/ABI/testing/sysfs-bus-pci#L344-L355\n",
      "2024-09-13 12:53:23.830460: I tensorflow/core/common_runtime/gpu/gpu_device.cc:2021] Created device /job:localhost/replica:0/task:0/device:GPU:0 with 2559 MB memory:  -> device: 0, name: NVIDIA GeForce GTX 1650 Ti, pci bus id: 0000:01:00.0, compute capability: 7.5\n"
     ]
    }
   ],
   "source": [
    "input_shape = (width, width, 3)\n",
    "encoding_dim = 8\n",
    "\n",
    "input_img = layers.Input(shape=input_shape)\n",
    "\n",
    "# Encoder\n",
    "encoded = layers.Flatten()(input_img)\n",
    "encoded = layers.Dense(256)(encoded)\n",
    "encoded = LeakyReLU(negative_slope=0.1)(encoded)\n",
    "encoded = Dropout(0.5)(encoded)\n",
    "encoded = BatchNormalization()(encoded)\n",
    "\n",
    "encoded = layers.Dense(128)(encoded)\n",
    "encoded = LeakyReLU(negative_slope=0.1)(encoded)\n",
    "encoded = Dropout(0.5)(encoded)\n",
    "encoded = BatchNormalization()(encoded)\n",
    "\n",
    "encoded = layers.Dense(64)(encoded)\n",
    "encoded = LeakyReLU(negative_slope=0.1)(encoded)\n",
    "encoded = Dropout(0.5)(encoded)\n",
    "encoded = BatchNormalization()(encoded)\n",
    "\n",
    "bottleneck = layers.Dense(encoding_dim, activation='relu')(encoded)\n",
    "\n",
    "# Decoder\n",
    "decoded = layers.Dense(64, activation='relu')(bottleneck)\n",
    "decoded = layers.Dense(128, activation='relu')(decoded)\n",
    "decoded = layers.Dense(256, activation='relu')(decoded)\n",
    "\n",
    "decoded = layers.Dense(np.prod(input_shape), activation='sigmoid')(decoded)\n",
    "output_img = layers.Reshape(input_shape)(decoded)"
   ]
  },
  {
   "cell_type": "code",
   "execution_count": 10,
   "id": "8f2b163a-6ed5-44bf-af21-17bae05f69fc",
   "metadata": {},
   "outputs": [
    {
     "name": "stderr",
     "output_type": "stream",
     "text": [
      "2024-09-13 12:53:33.553443: W external/local_tsl/tsl/framework/cpu_allocator_impl.cc:83] Allocation of 2054481408 exceeds 10% of free system memory.\n",
      "2024-09-13 12:53:35.572868: W external/local_tsl/tsl/framework/cpu_allocator_impl.cc:83] Allocation of 2054481408 exceeds 10% of free system memory.\n",
      "2024-09-13 12:53:46.626189: W external/local_tsl/tsl/framework/bfc_allocator.cc:482] Allocator (GPU_0_bfc) ran out of memory trying to allocate 1.91GiB (rounded to 2054481408)requested by op _EagerConst\n",
      "If the cause is memory fragmentation maybe the environment variable 'TF_GPU_ALLOCATOR=cuda_malloc_async' will improve the situation. \n",
      "Current allocation summary follows.\n",
      "Current allocation summary follows.\n",
      "2024-09-13 12:53:46.626234: I external/local_tsl/tsl/framework/bfc_allocator.cc:1039] BFCAllocator dump for GPU_0_bfc\n",
      "2024-09-13 12:53:46.626252: I external/local_tsl/tsl/framework/bfc_allocator.cc:1046] Bin (256): \tTotal Chunks: 26, Chunks in use: 26. 6.5KiB allocated for chunks. 6.5KiB in use in bin. 1.7KiB client-requested in use in bin.\n",
      "2024-09-13 12:53:46.626269: I external/local_tsl/tsl/framework/bfc_allocator.cc:1046] Bin (512): \tTotal Chunks: 6, Chunks in use: 6. 3.0KiB allocated for chunks. 3.0KiB in use in bin. 3.0KiB client-requested in use in bin.\n",
      "2024-09-13 12:53:46.626285: I external/local_tsl/tsl/framework/bfc_allocator.cc:1046] Bin (1024): \tTotal Chunks: 7, Chunks in use: 7. 7.2KiB allocated for chunks. 7.2KiB in use in bin. 7.0KiB client-requested in use in bin.\n",
      "2024-09-13 12:53:46.626302: I external/local_tsl/tsl/framework/bfc_allocator.cc:1046] Bin (2048): \tTotal Chunks: 2, Chunks in use: 2. 4.0KiB allocated for chunks. 4.0KiB in use in bin. 4.0KiB client-requested in use in bin.\n",
      "2024-09-13 12:53:46.626318: I external/local_tsl/tsl/framework/bfc_allocator.cc:1046] Bin (4096): \tTotal Chunks: 0, Chunks in use: 0. 0B allocated for chunks. 0B in use in bin. 0B client-requested in use in bin.\n",
      "2024-09-13 12:53:46.626333: I external/local_tsl/tsl/framework/bfc_allocator.cc:1046] Bin (8192): \tTotal Chunks: 0, Chunks in use: 0. 0B allocated for chunks. 0B in use in bin. 0B client-requested in use in bin.\n",
      "2024-09-13 12:53:46.626350: I external/local_tsl/tsl/framework/bfc_allocator.cc:1046] Bin (16384): \tTotal Chunks: 1, Chunks in use: 0. 31.8KiB allocated for chunks. 0B in use in bin. 0B client-requested in use in bin.\n",
      "2024-09-13 12:53:46.626368: I external/local_tsl/tsl/framework/bfc_allocator.cc:1046] Bin (32768): \tTotal Chunks: 3, Chunks in use: 3. 120.0KiB allocated for chunks. 120.0KiB in use in bin. 110.5KiB client-requested in use in bin.\n",
      "2024-09-13 12:53:46.626384: I external/local_tsl/tsl/framework/bfc_allocator.cc:1046] Bin (65536): \tTotal Chunks: 1, Chunks in use: 0. 92.8KiB allocated for chunks. 0B in use in bin. 0B client-requested in use in bin.\n",
      "2024-09-13 12:53:46.626401: I external/local_tsl/tsl/framework/bfc_allocator.cc:1046] Bin (131072): \tTotal Chunks: 2, Chunks in use: 2. 256.0KiB allocated for chunks. 256.0KiB in use in bin. 256.0KiB client-requested in use in bin.\n",
      "2024-09-13 12:53:46.626417: I external/local_tsl/tsl/framework/bfc_allocator.cc:1046] Bin (262144): \tTotal Chunks: 1, Chunks in use: 0. 256.0KiB allocated for chunks. 0B in use in bin. 0B client-requested in use in bin.\n",
      "2024-09-13 12:53:46.626432: I external/local_tsl/tsl/framework/bfc_allocator.cc:1046] Bin (524288): \tTotal Chunks: 0, Chunks in use: 0. 0B allocated for chunks. 0B in use in bin. 0B client-requested in use in bin.\n",
      "2024-09-13 12:53:46.626447: I external/local_tsl/tsl/framework/bfc_allocator.cc:1046] Bin (1048576): \tTotal Chunks: 0, Chunks in use: 0. 0B allocated for chunks. 0B in use in bin. 0B client-requested in use in bin.\n",
      "2024-09-13 12:53:46.626463: I external/local_tsl/tsl/framework/bfc_allocator.cc:1046] Bin (2097152): \tTotal Chunks: 0, Chunks in use: 0. 0B allocated for chunks. 0B in use in bin. 0B client-requested in use in bin.\n",
      "2024-09-13 12:53:46.626478: I external/local_tsl/tsl/framework/bfc_allocator.cc:1046] Bin (4194304): \tTotal Chunks: 0, Chunks in use: 0. 0B allocated for chunks. 0B in use in bin. 0B client-requested in use in bin.\n",
      "2024-09-13 12:53:46.626495: I external/local_tsl/tsl/framework/bfc_allocator.cc:1046] Bin (8388608): \tTotal Chunks: 3, Chunks in use: 2. 34.88MiB allocated for chunks. 23.26MiB in use in bin. 23.26MiB client-requested in use in bin.\n",
      "2024-09-13 12:53:46.626511: I external/local_tsl/tsl/framework/bfc_allocator.cc:1046] Bin (16777216): \tTotal Chunks: 1, Chunks in use: 0. 22.50MiB allocated for chunks. 0B in use in bin. 0B client-requested in use in bin.\n",
      "2024-09-13 12:53:46.626531: I external/local_tsl/tsl/framework/bfc_allocator.cc:1046] Bin (33554432): \tTotal Chunks: 0, Chunks in use: 0. 0B allocated for chunks. 0B in use in bin. 0B client-requested in use in bin.\n",
      "2024-09-13 12:53:46.626564: I external/local_tsl/tsl/framework/bfc_allocator.cc:1046] Bin (67108864): \tTotal Chunks: 0, Chunks in use: 0. 0B allocated for chunks. 0B in use in bin. 0B client-requested in use in bin.\n",
      "2024-09-13 12:53:46.626580: I external/local_tsl/tsl/framework/bfc_allocator.cc:1046] Bin (134217728): \tTotal Chunks: 0, Chunks in use: 0. 0B allocated for chunks. 0B in use in bin. 0B client-requested in use in bin.\n",
      "2024-09-13 12:53:46.626596: I external/local_tsl/tsl/framework/bfc_allocator.cc:1046] Bin (268435456): \tTotal Chunks: 2, Chunks in use: 1. 2.44GiB allocated for chunks. 1.91GiB in use in bin. 1.91GiB client-requested in use in bin.\n",
      "2024-09-13 12:53:46.626613: I external/local_tsl/tsl/framework/bfc_allocator.cc:1062] Bin for 1.91GiB was 256.00MiB, Chunk State: \n",
      "2024-09-13 12:53:46.626631: I external/local_tsl/tsl/framework/bfc_allocator.cc:1068]   Size: 541.93MiB | Requested Size: 0B | in_use: 0 | bin_num: 20, prev:   Size: 1.91GiB | Requested Size: 1.91GiB | in_use: 1 | bin_num: -1\n",
      "2024-09-13 12:53:46.626646: I external/local_tsl/tsl/framework/bfc_allocator.cc:1075] Next region of size 2683699200\n",
      "2024-09-13 12:53:46.626661: I external/local_tsl/tsl/framework/bfc_allocator.cc:1095] InUse at 7b9952000000 of size 256 next 1\n",
      "2024-09-13 12:53:46.626675: I external/local_tsl/tsl/framework/bfc_allocator.cc:1095] InUse at 7b9952000100 of size 1280 next 2\n",
      "2024-09-13 12:53:46.626688: I external/local_tsl/tsl/framework/bfc_allocator.cc:1095] InUse at 7b9952000600 of size 256 next 3\n",
      "2024-09-13 12:53:46.626701: I external/local_tsl/tsl/framework/bfc_allocator.cc:1095] InUse at 7b9952000700 of size 256 next 4\n",
      "2024-09-13 12:53:46.626714: I external/local_tsl/tsl/framework/bfc_allocator.cc:1095] InUse at 7b9952000800 of size 256 next 5\n",
      "2024-09-13 12:53:46.626728: I external/local_tsl/tsl/framework/bfc_allocator.cc:1095] InUse at 7b9952000900 of size 1024 next 7\n",
      "2024-09-13 12:53:46.626741: I external/local_tsl/tsl/framework/bfc_allocator.cc:1095] InUse at 7b9952000d00 of size 256 next 8\n",
      "2024-09-13 12:53:46.626754: I external/local_tsl/tsl/framework/bfc_allocator.cc:1095] InUse at 7b9952000e00 of size 256 next 6\n",
      "2024-09-13 12:53:46.626768: I external/local_tsl/tsl/framework/bfc_allocator.cc:1095] InUse at 7b9952000f00 of size 1024 next 9\n",
      "2024-09-13 12:53:46.626781: I external/local_tsl/tsl/framework/bfc_allocator.cc:1095] InUse at 7b9952001300 of size 1024 next 12\n",
      "2024-09-13 12:53:46.626795: I external/local_tsl/tsl/framework/bfc_allocator.cc:1095] InUse at 7b9952001700 of size 1024 next 13\n",
      "2024-09-13 12:53:46.626809: I external/local_tsl/tsl/framework/bfc_allocator.cc:1095] InUse at 7b9952001b00 of size 1024 next 14\n",
      "2024-09-13 12:53:46.626822: I external/local_tsl/tsl/framework/bfc_allocator.cc:1095] InUse at 7b9952001f00 of size 256 next 15\n",
      "2024-09-13 12:53:46.626834: I external/local_tsl/tsl/framework/bfc_allocator.cc:1095] InUse at 7b9952002000 of size 256 next 16\n",
      "2024-09-13 12:53:46.626847: I external/local_tsl/tsl/framework/bfc_allocator.cc:1095] InUse at 7b9952002100 of size 512 next 17\n",
      "2024-09-13 12:53:46.626861: I external/local_tsl/tsl/framework/bfc_allocator.cc:1095] InUse at 7b9952002300 of size 256 next 19\n",
      "2024-09-13 12:53:46.626873: I external/local_tsl/tsl/framework/bfc_allocator.cc:1095] InUse at 7b9952002400 of size 512 next 20\n",
      "2024-09-13 12:53:46.626886: I external/local_tsl/tsl/framework/bfc_allocator.cc:1095] InUse at 7b9952002600 of size 512 next 18\n",
      "2024-09-13 12:53:46.626899: I external/local_tsl/tsl/framework/bfc_allocator.cc:1095] InUse at 7b9952002800 of size 512 next 21\n",
      "2024-09-13 12:53:46.626912: I external/local_tsl/tsl/framework/bfc_allocator.cc:1095] InUse at 7b9952002a00 of size 512 next 24\n",
      "2024-09-13 12:53:46.626926: I external/local_tsl/tsl/framework/bfc_allocator.cc:1095] InUse at 7b9952002c00 of size 256 next 25\n",
      "2024-09-13 12:53:46.626939: I external/local_tsl/tsl/framework/bfc_allocator.cc:1095] InUse at 7b9952002d00 of size 256 next 26\n",
      "2024-09-13 12:53:46.626952: I external/local_tsl/tsl/framework/bfc_allocator.cc:1095] InUse at 7b9952002e00 of size 256 next 27\n",
      "2024-09-13 12:53:46.626965: I external/local_tsl/tsl/framework/bfc_allocator.cc:1095] InUse at 7b9952002f00 of size 256 next 29\n",
      "2024-09-13 12:53:46.626977: I external/local_tsl/tsl/framework/bfc_allocator.cc:1095] InUse at 7b9952003000 of size 256 next 30\n",
      "2024-09-13 12:53:46.626990: I external/local_tsl/tsl/framework/bfc_allocator.cc:1095] InUse at 7b9952003100 of size 256 next 28\n",
      "2024-09-13 12:53:46.627003: I external/local_tsl/tsl/framework/bfc_allocator.cc:1095] InUse at 7b9952003200 of size 256 next 31\n",
      "2024-09-13 12:53:46.627016: I external/local_tsl/tsl/framework/bfc_allocator.cc:1095] InUse at 7b9952003300 of size 256 next 34\n",
      "2024-09-13 12:53:46.627029: I external/local_tsl/tsl/framework/bfc_allocator.cc:1095] InUse at 7b9952003400 of size 256 next 35\n",
      "2024-09-13 12:53:46.627041: I external/local_tsl/tsl/framework/bfc_allocator.cc:1095] InUse at 7b9952003500 of size 256 next 36\n",
      "2024-09-13 12:53:46.627054: I external/local_tsl/tsl/framework/bfc_allocator.cc:1095] InUse at 7b9952003600 of size 256 next 37\n",
      "2024-09-13 12:53:46.627067: I external/local_tsl/tsl/framework/bfc_allocator.cc:1095] InUse at 7b9952003700 of size 256 next 40\n",
      "2024-09-13 12:53:46.627080: I external/local_tsl/tsl/framework/bfc_allocator.cc:1095] InUse at 7b9952003800 of size 512 next 39\n",
      "2024-09-13 12:53:46.627092: I external/local_tsl/tsl/framework/bfc_allocator.cc:1095] InUse at 7b9952003a00 of size 1024 next 38\n",
      "2024-09-13 12:53:46.627106: I external/local_tsl/tsl/framework/bfc_allocator.cc:1095] InUse at 7b9952003e00 of size 256 next 48\n",
      "2024-09-13 12:53:46.627119: I external/local_tsl/tsl/framework/bfc_allocator.cc:1095] InUse at 7b9952003f00 of size 256 next 45\n",
      "2024-09-13 12:53:46.627132: I external/local_tsl/tsl/framework/bfc_allocator.cc:1095] InUse at 7b9952004000 of size 256 next 47\n",
      "2024-09-13 12:53:46.627144: I external/local_tsl/tsl/framework/bfc_allocator.cc:1095] InUse at 7b9952004100 of size 256 next 41\n",
      "2024-09-13 12:53:46.627157: I external/local_tsl/tsl/framework/bfc_allocator.cc:1095] InUse at 7b9952004200 of size 2048 next 42\n",
      "2024-09-13 12:53:46.627172: I external/local_tsl/tsl/framework/bfc_allocator.cc:1095] InUse at 7b9952004a00 of size 2048 next 43\n",
      "2024-09-13 12:53:46.627181: I external/local_tsl/tsl/framework/bfc_allocator.cc:1095] InUse at 7b9952005200 of size 57344 next 32\n",
      "2024-09-13 12:53:46.627189: I external/local_tsl/tsl/framework/bfc_allocator.cc:1095] InUse at 7b9952013200 of size 32768 next 33\n",
      "2024-09-13 12:53:46.627196: I external/local_tsl/tsl/framework/bfc_allocator.cc:1095] InUse at 7b995201b200 of size 256 next 53\n",
      "2024-09-13 12:53:46.627202: I external/local_tsl/tsl/framework/bfc_allocator.cc:1095] Free  at 7b995201b300 of size 32512 next 46\n",
      "2024-09-13 12:53:46.627209: I external/local_tsl/tsl/framework/bfc_allocator.cc:1095] InUse at 7b9952023200 of size 32768 next 44\n",
      "2024-09-13 12:53:46.627216: I external/local_tsl/tsl/framework/bfc_allocator.cc:1095] Free  at 7b995202b200 of size 94976 next 22\n",
      "2024-09-13 12:53:46.627223: I external/local_tsl/tsl/framework/bfc_allocator.cc:1095] InUse at 7b9952042500 of size 131072 next 23\n",
      "2024-09-13 12:53:46.627230: I external/local_tsl/tsl/framework/bfc_allocator.cc:1095] Free  at 7b9952062500 of size 262144 next 50\n",
      "2024-09-13 12:53:46.627237: I external/local_tsl/tsl/framework/bfc_allocator.cc:1095] InUse at 7b99520a2500 of size 131072 next 49\n",
      "2024-09-13 12:53:46.627244: I external/local_tsl/tsl/framework/bfc_allocator.cc:1095] Free  at 7b99520c2500 of size 23592704 next 10\n",
      "2024-09-13 12:53:46.627251: I external/local_tsl/tsl/framework/bfc_allocator.cc:1095] InUse at 7b9953742400 of size 12192768 next 11\n",
      "2024-09-13 12:53:46.627259: I external/local_tsl/tsl/framework/bfc_allocator.cc:1095] Free  at 7b99542e3000 of size 12192768 next 51\n",
      "2024-09-13 12:53:46.627266: I external/local_tsl/tsl/framework/bfc_allocator.cc:1095] InUse at 7b9954e83c00 of size 12192768 next 52\n",
      "2024-09-13 12:53:46.627273: I external/local_tsl/tsl/framework/bfc_allocator.cc:1095] InUse at 7b9955a24800 of size 2054481408 next 54\n",
      "2024-09-13 12:53:46.627280: I external/local_tsl/tsl/framework/bfc_allocator.cc:1095] Free  at 7b99d0172e00 of size 568250880 next 18446744073709551615\n",
      "2024-09-13 12:53:46.627287: I external/local_tsl/tsl/framework/bfc_allocator.cc:1100]      Summary of in-use Chunks by size: \n",
      "2024-09-13 12:53:46.627295: I external/local_tsl/tsl/framework/bfc_allocator.cc:1103] 26 Chunks of size 256 totalling 6.5KiB\n",
      "2024-09-13 12:53:46.627301: I external/local_tsl/tsl/framework/bfc_allocator.cc:1103] 6 Chunks of size 512 totalling 3.0KiB\n",
      "2024-09-13 12:53:46.627308: I external/local_tsl/tsl/framework/bfc_allocator.cc:1103] 6 Chunks of size 1024 totalling 6.0KiB\n",
      "2024-09-13 12:53:46.627315: I external/local_tsl/tsl/framework/bfc_allocator.cc:1103] 1 Chunks of size 1280 totalling 1.2KiB\n",
      "2024-09-13 12:53:46.627322: I external/local_tsl/tsl/framework/bfc_allocator.cc:1103] 2 Chunks of size 2048 totalling 4.0KiB\n",
      "2024-09-13 12:53:46.627329: I external/local_tsl/tsl/framework/bfc_allocator.cc:1103] 2 Chunks of size 32768 totalling 64.0KiB\n",
      "2024-09-13 12:53:46.627336: I external/local_tsl/tsl/framework/bfc_allocator.cc:1103] 1 Chunks of size 57344 totalling 56.0KiB\n",
      "2024-09-13 12:53:46.627343: I external/local_tsl/tsl/framework/bfc_allocator.cc:1103] 2 Chunks of size 131072 totalling 256.0KiB\n",
      "2024-09-13 12:53:46.627350: I external/local_tsl/tsl/framework/bfc_allocator.cc:1103] 2 Chunks of size 12192768 totalling 23.26MiB\n",
      "2024-09-13 12:53:46.627357: I external/local_tsl/tsl/framework/bfc_allocator.cc:1103] 1 Chunks of size 2054481408 totalling 1.91GiB\n",
      "2024-09-13 12:53:46.627365: I external/local_tsl/tsl/framework/bfc_allocator.cc:1107] Sum Total of in-use chunks: 1.94GiB\n",
      "2024-09-13 12:53:46.627371: I external/local_tsl/tsl/framework/bfc_allocator.cc:1109] Total bytes in pool: 2683699200 memory_limit_: 2683699200 available bytes: 0 curr_region_allocation_bytes_: 5367398400\n",
      "2024-09-13 12:53:46.627381: I external/local_tsl/tsl/framework/bfc_allocator.cc:1114] Stats: \n",
      "Limit:                      2683699200\n",
      "InUse:                      2079273216\n",
      "MaxInUse:                   2079273216\n",
      "NumAllocs:                         113\n",
      "MaxAllocSize:               2054481408\n",
      "Reserved:                            0\n",
      "PeakReserved:                        0\n",
      "LargestFreeBlock:                    0\n",
      "\n",
      "2024-09-13 12:53:46.627390: W external/local_tsl/tsl/framework/bfc_allocator.cc:494] *******************************************************************************_____________________\n"
     ]
    },
    {
     "ename": "InternalError",
     "evalue": "Failed copying input tensor from /job:localhost/replica:0/task:0/device:CPU:0 to /job:localhost/replica:0/task:0/device:GPU:0 in order to run _EagerConst: Dst tensor is not initialized.",
     "output_type": "error",
     "traceback": [
      "\u001b[0;31m---------------------------------------------------------------------------\u001b[0m",
      "\u001b[0;31mInternalError\u001b[0m                             Traceback (most recent call last)",
      "Cell \u001b[0;32mIn[10], line 10\u001b[0m\n\u001b[1;32m      4\u001b[0m \u001b[38;5;28;01mfrom\u001b[39;00m \u001b[38;5;21;01mkeras\u001b[39;00m \u001b[38;5;28;01mimport\u001b[39;00m callbacks\n\u001b[1;32m      5\u001b[0m earlystopping \u001b[38;5;241m=\u001b[39m callbacks\u001b[38;5;241m.\u001b[39mEarlyStopping(monitor\u001b[38;5;241m=\u001b[39m\u001b[38;5;124m\"\u001b[39m\u001b[38;5;124mval_loss\u001b[39m\u001b[38;5;124m\"\u001b[39m,\n\u001b[1;32m      6\u001b[0m                                         mode\u001b[38;5;241m=\u001b[39m\u001b[38;5;124m\"\u001b[39m\u001b[38;5;124mmin\u001b[39m\u001b[38;5;124m\"\u001b[39m,\n\u001b[1;32m      7\u001b[0m                                         patience\u001b[38;5;241m=\u001b[39m\u001b[38;5;241m5\u001b[39m,\n\u001b[1;32m      8\u001b[0m                                         restore_best_weights\u001b[38;5;241m=\u001b[39m\u001b[38;5;28;01mTrue\u001b[39;00m)\n\u001b[0;32m---> 10\u001b[0m history \u001b[38;5;241m=\u001b[39m \u001b[43mautoencoder\u001b[49m\u001b[38;5;241;43m.\u001b[39;49m\u001b[43mfit\u001b[49m\u001b[43m(\u001b[49m\u001b[43mtrain_images\u001b[49m\u001b[43m,\u001b[49m\u001b[43m \u001b[49m\u001b[43mtrain_images\u001b[49m\u001b[43m,\u001b[49m\u001b[43m \u001b[49m\n\u001b[1;32m     11\u001b[0m \u001b[43m                          \u001b[49m\u001b[43mepochs\u001b[49m\u001b[38;5;241;43m=\u001b[39;49m\u001b[38;5;241;43m25\u001b[39;49m\u001b[43m,\u001b[49m\u001b[43m \u001b[49m\n\u001b[1;32m     12\u001b[0m \u001b[43m                          \u001b[49m\u001b[43mbatch_size\u001b[49m\u001b[38;5;241;43m=\u001b[39;49m\u001b[38;5;241;43m32\u001b[39;49m\u001b[43m,\u001b[49m\u001b[43m \u001b[49m\n\u001b[1;32m     13\u001b[0m \u001b[43m                          \u001b[49m\u001b[43mshuffle\u001b[49m\u001b[38;5;241;43m=\u001b[39;49m\u001b[38;5;28;43;01mTrue\u001b[39;49;00m\u001b[43m,\u001b[49m\u001b[43m \u001b[49m\n\u001b[1;32m     14\u001b[0m \u001b[43m                          \u001b[49m\u001b[43mvalidation_data\u001b[49m\u001b[38;5;241;43m=\u001b[39;49m\u001b[43m(\u001b[49m\u001b[43mtest_images\u001b[49m\u001b[43m,\u001b[49m\u001b[43m \u001b[49m\u001b[43mtest_images\u001b[49m\u001b[43m)\u001b[49m\u001b[43m,\u001b[49m\n\u001b[1;32m     15\u001b[0m \u001b[43m                          \u001b[49m\u001b[43mcallbacks\u001b[49m\u001b[38;5;241;43m=\u001b[39;49m\u001b[43m[\u001b[49m\u001b[43mearlystopping\u001b[49m\u001b[43m]\u001b[49m\u001b[43m)\u001b[49m\n",
      "File \u001b[0;32m~/astro/astro/lib/python3.10/site-packages/keras/src/utils/traceback_utils.py:122\u001b[0m, in \u001b[0;36mfilter_traceback.<locals>.error_handler\u001b[0;34m(*args, **kwargs)\u001b[0m\n\u001b[1;32m    119\u001b[0m     filtered_tb \u001b[38;5;241m=\u001b[39m _process_traceback_frames(e\u001b[38;5;241m.\u001b[39m__traceback__)\n\u001b[1;32m    120\u001b[0m     \u001b[38;5;66;03m# To get the full stack trace, call:\u001b[39;00m\n\u001b[1;32m    121\u001b[0m     \u001b[38;5;66;03m# `keras.config.disable_traceback_filtering()`\u001b[39;00m\n\u001b[0;32m--> 122\u001b[0m     \u001b[38;5;28;01mraise\u001b[39;00m e\u001b[38;5;241m.\u001b[39mwith_traceback(filtered_tb) \u001b[38;5;28;01mfrom\u001b[39;00m \u001b[38;5;28;01mNone\u001b[39;00m\n\u001b[1;32m    123\u001b[0m \u001b[38;5;28;01mfinally\u001b[39;00m:\n\u001b[1;32m    124\u001b[0m     \u001b[38;5;28;01mdel\u001b[39;00m filtered_tb\n",
      "File \u001b[0;32m~/astro/astro/lib/python3.10/site-packages/tensorflow/python/framework/constant_op.py:108\u001b[0m, in \u001b[0;36mconvert_to_eager_tensor\u001b[0;34m(value, ctx, dtype)\u001b[0m\n\u001b[1;32m    106\u001b[0m     dtype \u001b[38;5;241m=\u001b[39m dtypes\u001b[38;5;241m.\u001b[39mas_dtype(dtype)\u001b[38;5;241m.\u001b[39mas_datatype_enum\n\u001b[1;32m    107\u001b[0m ctx\u001b[38;5;241m.\u001b[39mensure_initialized()\n\u001b[0;32m--> 108\u001b[0m \u001b[38;5;28;01mreturn\u001b[39;00m \u001b[43mops\u001b[49m\u001b[38;5;241;43m.\u001b[39;49m\u001b[43mEagerTensor\u001b[49m\u001b[43m(\u001b[49m\u001b[43mvalue\u001b[49m\u001b[43m,\u001b[49m\u001b[43m \u001b[49m\u001b[43mctx\u001b[49m\u001b[38;5;241;43m.\u001b[39;49m\u001b[43mdevice_name\u001b[49m\u001b[43m,\u001b[49m\u001b[43m \u001b[49m\u001b[43mdtype\u001b[49m\u001b[43m)\u001b[49m\n",
      "\u001b[0;31mInternalError\u001b[0m: Failed copying input tensor from /job:localhost/replica:0/task:0/device:CPU:0 to /job:localhost/replica:0/task:0/device:GPU:0 in order to run _EagerConst: Dst tensor is not initialized."
     ]
    }
   ],
   "source": [
    "autoencoder = models.Model(input_img, output_img)\n",
    "autoencoder.compile(optimizer='adam', loss='mse')\n",
    "\n",
    "from keras import callbacks\n",
    "earlystopping = callbacks.EarlyStopping(monitor=\"val_loss\",\n",
    "                                        mode=\"min\",\n",
    "                                        patience=5,\n",
    "                                        restore_best_weights=True)\n",
    "\n",
    "history = autoencoder.fit(train_images, train_images, \n",
    "                          epochs=25, \n",
    "                          batch_size=32, \n",
    "                          shuffle=True, \n",
    "                          validation_data=(test_images, test_images),\n",
    "                          callbacks=[earlystopping])"
   ]
  },
  {
   "cell_type": "code",
   "execution_count": 37,
   "id": "d48e3bac-10f7-453a-8fc8-57ca598340ab",
   "metadata": {},
   "outputs": [
    {
     "name": "stdout",
     "output_type": "stream",
     "text": [
      "\u001b[1m337/337\u001b[0m \u001b[32m━━━━━━━━━━━━━━━━━━━━\u001b[0m\u001b[37m\u001b[0m \u001b[1m1s\u001b[0m 2ms/step - loss: 0.0354\n",
      "Loss: 0.03536203131079674\n"
     ]
    }
   ],
   "source": [
    "loss = autoencoder.evaluate(test_images, test_images)\n",
    "print(f\"Loss: {loss}\")"
   ]
  },
  {
   "cell_type": "code",
   "execution_count": 38,
   "id": "93f104db-7524-4618-85dd-fe3b529cb202",
   "metadata": {},
   "outputs": [
    {
     "name": "stdout",
     "output_type": "stream",
     "text": [
      "Train Loss: 0.03536286950111389\n",
      "Test Loss: 0.03536203131079674\n",
      "El modelo generaliza bien.\n"
     ]
    }
   ],
   "source": [
    "# Comparar Loss de ambos conjuntos para ver si hay sobreajuste\n",
    "train_loss = autoencoder.evaluate(train_images, train_images, verbose=0)\n",
    "print(f\"Train Loss: {train_loss}\")\n",
    "\n",
    "test_loss = autoencoder.evaluate(test_images, test_images, verbose=0)\n",
    "print(f\"Test Loss: {test_loss}\")\n",
    "\n",
    "if test_loss > train_loss * 1.5:\n",
    "    print(\"Posible sobreajuste detectado.\")\n",
    "else:\n",
    "    print(\"El modelo generaliza bien.\")\n"
   ]
  },
  {
   "cell_type": "code",
   "execution_count": 39,
   "id": "62533d42-0a98-4961-b09f-b24d9e283ee7",
   "metadata": {},
   "outputs": [
    {
     "name": "stdout",
     "output_type": "stream",
     "text": [
      "\u001b[1m1/1\u001b[0m \u001b[32m━━━━━━━━━━━━━━━━━━━━\u001b[0m\u001b[37m\u001b[0m \u001b[1m2s\u001b[0m 2s/step\n"
     ]
    },
    {
     "name": "stderr",
     "output_type": "stream",
     "text": [
      "Clipping input data to the valid range for imshow with RGB data ([0..1] for floats or [0..255] for integers). Got range [-0.3276795..0.03956884].\n",
      "Clipping input data to the valid range for imshow with RGB data ([0..1] for floats or [0..255] for integers). Got range [-0.32747668..0.0660184].\n",
      "Clipping input data to the valid range for imshow with RGB data ([0..1] for floats or [0..255] for integers). Got range [-0.32775402..0.052913487].\n",
      "Clipping input data to the valid range for imshow with RGB data ([0..1] for floats or [0..255] for integers). Got range [-0.3301825..0.068315536].\n",
      "Clipping input data to the valid range for imshow with RGB data ([0..1] for floats or [0..255] for integers). Got range [-0.3318441..0.37060347].\n",
      "Clipping input data to the valid range for imshow with RGB data ([0..1] for floats or [0..255] for integers). Got range [-0.3304916..0.3351972].\n",
      "Clipping input data to the valid range for imshow with RGB data ([0..1] for floats or [0..255] for integers). Got range [-0.3265878..0.045862343].\n",
      "Clipping input data to the valid range for imshow with RGB data ([0..1] for floats or [0..255] for integers). Got range [-0.32622164..0.036306933].\n",
      "Clipping input data to the valid range for imshow with RGB data ([0..1] for floats or [0..255] for integers). Got range [-0.32668996..0.03558641].\n",
      "Clipping input data to the valid range for imshow with RGB data ([0..1] for floats or [0..255] for integers). Got range [-0.326136..0.02661001].\n"
     ]
    },
    {
     "data": {
      "image/png": "[encoded data removed]",
      "text/plain": [
       "<Figure size 2000x400 with 20 Axes>"
      ]
     },
     "metadata": {},
     "output_type": "display_data"
    }
   ],
   "source": [
    "#Visualizar ejemplos de imágenes reconstruidas\n",
    "n = 10\n",
    "test_samples = test_images[:n]\n",
    "\n",
    "reconstructed_images = autoencoder.predict(test_samples)\n",
    "\n",
    "plt.figure(figsize=(20, 4))\n",
    "for i in range(n):\n",
    "    # Imagen original\n",
    "    ax = plt.subplot(2, n, i + 1)\n",
    "    plt.imshow(test_samples[i].reshape(width, width, 3), cmap='gray')\n",
    "    ax.get_xaxis().set_visible(False)\n",
    "    ax.get_yaxis().set_visible(False)\n",
    "    ax.set_title(\"Original\")\n",
    "    \n",
    "    # Imagen reconstruida\n",
    "    ax = plt.subplot(2, n, i + 1 + n)\n",
    "    plt.imshow(reconstructed_images[i].reshape(width, width, 3), cmap='gray')\n",
    "    ax.get_xaxis().set_visible(False)\n",
    "    ax.get_yaxis().set_visible(False)\n",
    "    ax.set_title(\"Reconstruida\")\n",
    "plt.show()"
   ]
  }
 ],
 "metadata": {
  "kernelspec": {
   "display_name": "Python (astro)",
   "language": "python",
   "name": "astro"
  },
  "language_info": {
   "codemirror_mode": {
    "name": "ipython",
    "version": 3
   },
   "file_extension": ".py",
   "mimetype": "text/x-python",
   "name": "python",
   "nbconvert_exporter": "python",
   "pygments_lexer": "ipython3",
   "version": "3.10.14"
  }
 },
 "nbformat": 4,
 "nbformat_minor": 5
}
